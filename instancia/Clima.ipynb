{
 "cells": [
  {
   "cell_type": "code",
   "execution_count": 21,
   "id": "b4bba519-da31-4751-b95a-1ae4fcb66c3f",
   "metadata": {},
   "outputs": [
    {
     "name": "stdout",
     "output_type": "stream",
     "text": [
      "Collecting twilio\n",
      "  Downloading twilio-9.4.3-py2.py3-none-any.whl.metadata (12 kB)\n",
      "Requirement already satisfied: requests>=2.0.0 in c:\\users\\nb-aroman\\anaconda3\\lib\\site-packages (from twilio) (2.32.3)\n",
      "Requirement already satisfied: PyJWT<3.0.0,>=2.0.0 in c:\\users\\nb-aroman\\anaconda3\\lib\\site-packages (from twilio) (2.8.0)\n",
      "Requirement already satisfied: aiohttp>=3.8.4 in c:\\users\\nb-aroman\\anaconda3\\lib\\site-packages (from twilio) (3.10.5)\n",
      "Collecting aiohttp-retry==2.8.3 (from twilio)\n",
      "  Downloading aiohttp_retry-2.8.3-py3-none-any.whl.metadata (8.9 kB)\n",
      "Requirement already satisfied: aiohappyeyeballs>=2.3.0 in c:\\users\\nb-aroman\\anaconda3\\lib\\site-packages (from aiohttp>=3.8.4->twilio) (2.4.0)\n",
      "Requirement already satisfied: aiosignal>=1.1.2 in c:\\users\\nb-aroman\\anaconda3\\lib\\site-packages (from aiohttp>=3.8.4->twilio) (1.2.0)\n",
      "Requirement already satisfied: attrs>=17.3.0 in c:\\users\\nb-aroman\\anaconda3\\lib\\site-packages (from aiohttp>=3.8.4->twilio) (23.1.0)\n",
      "Requirement already satisfied: frozenlist>=1.1.1 in c:\\users\\nb-aroman\\anaconda3\\lib\\site-packages (from aiohttp>=3.8.4->twilio) (1.4.0)\n",
      "Requirement already satisfied: multidict<7.0,>=4.5 in c:\\users\\nb-aroman\\anaconda3\\lib\\site-packages (from aiohttp>=3.8.4->twilio) (6.0.4)\n",
      "Requirement already satisfied: yarl<2.0,>=1.0 in c:\\users\\nb-aroman\\anaconda3\\lib\\site-packages (from aiohttp>=3.8.4->twilio) (1.11.0)\n",
      "Requirement already satisfied: charset-normalizer<4,>=2 in c:\\users\\nb-aroman\\anaconda3\\lib\\site-packages (from requests>=2.0.0->twilio) (3.3.2)\n",
      "Requirement already satisfied: idna<4,>=2.5 in c:\\users\\nb-aroman\\anaconda3\\lib\\site-packages (from requests>=2.0.0->twilio) (3.7)\n",
      "Requirement already satisfied: urllib3<3,>=1.21.1 in c:\\users\\nb-aroman\\anaconda3\\lib\\site-packages (from requests>=2.0.0->twilio) (2.2.3)\n",
      "Requirement already satisfied: certifi>=2017.4.17 in c:\\users\\nb-aroman\\anaconda3\\lib\\site-packages (from requests>=2.0.0->twilio) (2024.12.14)\n",
      "Downloading twilio-9.4.3-py2.py3-none-any.whl (1.9 MB)\n",
      "   ---------------------------------------- 0.0/1.9 MB ? eta -:--:--\n",
      "   --------------------------------- ------ 1.6/1.9 MB 9.3 MB/s eta 0:00:01\n",
      "   ---------------------------------------- 1.9/1.9 MB 9.4 MB/s eta 0:00:00\n",
      "Downloading aiohttp_retry-2.8.3-py3-none-any.whl (9.8 kB)\n",
      "Installing collected packages: aiohttp-retry, twilio\n",
      "Successfully installed aiohttp-retry-2.8.3 twilio-9.4.3\n",
      "Note: you may need to restart the kernel to use updated packages.\n"
     ]
    }
   ],
   "source": [
    "pip install twilio\n"
   ]
  },
  {
   "cell_type": "code",
   "execution_count": 32,
   "id": "f493503b-61bc-4272-9668-3201fda02def",
   "metadata": {},
   "outputs": [],
   "source": [
    "import os\n",
    "from twilio.rest import Client\n",
    "from twilio_config import TWILIO_ACCOUNT_SID,TWILIO_AUTH_TOKEN,PHONE_NUMBER,API_KEY_WAPI\n",
    "import time\n",
    "\n",
    "from requests import Request, Session\n",
    "from requests.exceptions import ConnectionError, Timeout, TooManyRedirects\n",
    "import json\n",
    "\n",
    "\n",
    "import pandas as pd\n",
    "import requests\n",
    "from bs4  import BeautifulSoup\n",
    "from tqdm import tqdm\n",
    "\n",
    "from datetime import datetime\n"
   ]
  },
  {
   "cell_type": "markdown",
   "id": "2a9ebde8-77a0-42e0-9ea6-c89db42e247f",
   "metadata": {},
   "source": [
    "Armando URL"
   ]
  },
  {
   "cell_type": "code",
   "execution_count": 34,
   "id": "6ad7cfea-8015-4dcf-a4e9-6b273f0d97a7",
   "metadata": {},
   "outputs": [
    {
     "data": {
      "text/plain": [
       "'http://api.weatherapi.com/v1/forecast.json?key=f3cf65ff7ae64bccad9210657220807&q=Bogotá&days=1&aqi=no&alerts=no'"
      ]
     },
     "execution_count": 34,
     "metadata": {},
     "output_type": "execute_result"
    }
   ],
   "source": [
    "query = 'Bogotá'\n",
    "api_key = API_KEY_WAPI\n",
    "\n",
    "url_clima = 'http://api.weatherapi.com/v1/forecast.json?key='+api_key+'&q='+query+'&days=1&aqi=no&alerts=no'\n",
    "url_clima"
   ]
  },
  {
   "cell_type": "code",
   "execution_count": 36,
   "id": "fe70b2b4-6064-4e59-82a4-90ff6e6170ea",
   "metadata": {},
   "outputs": [],
   "source": [
    "response = requests.get(url_clima).json()"
   ]
  },
  {
   "cell_type": "code",
   "execution_count": 38,
   "id": "1e262073-c3a0-4430-8970-637d072f2757",
   "metadata": {},
   "outputs": [
    {
     "data": {
      "text/plain": [
       "dict_keys(['location', 'current', 'forecast'])"
      ]
     },
     "execution_count": 38,
     "metadata": {},
     "output_type": "execute_result"
    }
   ],
   "source": [
    "response.keys()"
   ]
  },
  {
   "cell_type": "code",
   "execution_count": 40,
   "id": "0b627d4f-5491-4e84-b771-2357665b57b7",
   "metadata": {},
   "outputs": [
    {
     "data": {
      "text/plain": [
       "dict_keys(['date', 'date_epoch', 'day', 'astro', 'hour'])"
      ]
     },
     "execution_count": 40,
     "metadata": {},
     "output_type": "execute_result"
    }
   ],
   "source": [
    "response['forecast']['forecastday'][0].keys()"
   ]
  },
  {
   "cell_type": "code",
   "execution_count": 42,
   "id": "15a2f78e-7fc1-4bf7-b23f-a79cf05072ed",
   "metadata": {},
   "outputs": [
    {
     "data": {
      "text/plain": [
       "24"
      ]
     },
     "execution_count": 42,
     "metadata": {},
     "output_type": "execute_result"
    }
   ],
   "source": [
    "len(response['forecast']['forecastday'][0]['hour'])"
   ]
  },
  {
   "cell_type": "code",
   "execution_count": 44,
   "id": "a805bdb2-725c-43c5-9b8c-1617ce1e694a",
   "metadata": {},
   "outputs": [
    {
     "data": {
      "text/plain": [
       "{'time_epoch': 1737435600,\n",
       " 'time': '2025-01-21 00:00',\n",
       " 'temp_c': 9.3,\n",
       " 'temp_f': 48.7,\n",
       " 'is_day': 0,\n",
       " 'condition': {'text': 'Patchy rain nearby',\n",
       "  'icon': '//cdn.weatherapi.com/weather/64x64/night/176.png',\n",
       "  'code': 1063},\n",
       " 'wind_mph': 1.6,\n",
       " 'wind_kph': 2.5,\n",
       " 'wind_degree': 146,\n",
       " 'wind_dir': 'SSE',\n",
       " 'pressure_mb': 1019.0,\n",
       " 'pressure_in': 30.08,\n",
       " 'precip_mm': 0.05,\n",
       " 'precip_in': 0.0,\n",
       " 'snow_cm': 0.0,\n",
       " 'humidity': 88,\n",
       " 'cloud': 61,\n",
       " 'feelslike_c': 9.3,\n",
       " 'feelslike_f': 48.7,\n",
       " 'windchill_c': 9.3,\n",
       " 'windchill_f': 48.7,\n",
       " 'heatindex_c': 9.3,\n",
       " 'heatindex_f': 48.7,\n",
       " 'dewpoint_c': 7.4,\n",
       " 'dewpoint_f': 45.2,\n",
       " 'will_it_rain': 0,\n",
       " 'chance_of_rain': 66,\n",
       " 'will_it_snow': 0,\n",
       " 'chance_of_snow': 0,\n",
       " 'vis_km': 10.0,\n",
       " 'vis_miles': 6.0,\n",
       " 'gust_mph': 2.8,\n",
       " 'gust_kph': 4.5,\n",
       " 'uv': 0}"
      ]
     },
     "execution_count": 44,
     "metadata": {},
     "output_type": "execute_result"
    }
   ],
   "source": [
    "response['forecast']['forecastday'][0]['hour'][0]"
   ]
  },
  {
   "cell_type": "code",
   "execution_count": 46,
   "id": "8336de11-fd7c-4d25-9e93-c9267a403ba8",
   "metadata": {},
   "outputs": [
    {
     "data": {
      "text/plain": [
       "'2025-01-21'"
      ]
     },
     "execution_count": 46,
     "metadata": {},
     "output_type": "execute_result"
    }
   ],
   "source": [
    "response['forecast']['forecastday'][0]['hour'][0]['time'].split()[0]"
   ]
  },
  {
   "cell_type": "code",
   "execution_count": 62,
   "id": "b346d3b0-cd24-4a98-8f2c-17c85bdea54b",
   "metadata": {},
   "outputs": [
    {
     "data": {
      "text/plain": [
       "1"
      ]
     },
     "execution_count": 62,
     "metadata": {},
     "output_type": "execute_result"
    }
   ],
   "source": [
    "int(response['forecast']['forecastday'][0]['hour'][1]['time'].split()[1].split(':')[0])"
   ]
  },
  {
   "cell_type": "code",
   "execution_count": 54,
   "id": "4c73703b-ab8c-4008-8c2c-31c016494f33",
   "metadata": {},
   "outputs": [
    {
     "data": {
      "text/plain": [
       "{'text': 'Patchy rain nearby',\n",
       " 'icon': '//cdn.weatherapi.com/weather/64x64/night/176.png',\n",
       " 'code': 1063}"
      ]
     },
     "execution_count": 54,
     "metadata": {},
     "output_type": "execute_result"
    }
   ],
   "source": [
    "response['forecast']['forecastday'][0]['hour'][0]['condition']"
   ]
  },
  {
   "cell_type": "code",
   "execution_count": 56,
   "id": "eb95e9ff-3d6b-4ff6-9180-4d4235234c8a",
   "metadata": {},
   "outputs": [
    {
     "data": {
      "text/plain": [
       "9.3"
      ]
     },
     "execution_count": 56,
     "metadata": {},
     "output_type": "execute_result"
    }
   ],
   "source": [
    "response['forecast']['forecastday'][0]['hour'][0]['temp_c']"
   ]
  },
  {
   "cell_type": "code",
   "execution_count": 58,
   "id": "a1161606-ddf2-4514-8c38-75549a41ee2e",
   "metadata": {},
   "outputs": [
    {
     "data": {
      "text/plain": [
       "1"
      ]
     },
     "execution_count": 58,
     "metadata": {},
     "output_type": "execute_result"
    }
   ],
   "source": [
    "response['forecast']['forecastday'][0]['hour'][2]['will_it_rain']"
   ]
  },
  {
   "cell_type": "code",
   "execution_count": 60,
   "id": "5d329423-806c-4091-984f-6d282728ec9b",
   "metadata": {},
   "outputs": [
    {
     "data": {
      "text/plain": [
       "100"
      ]
     },
     "execution_count": 60,
     "metadata": {},
     "output_type": "execute_result"
    }
   ],
   "source": [
    "response['forecast']['forecastday'][0]['hour'][2]['chance_of_rain']"
   ]
  },
  {
   "cell_type": "code",
   "execution_count": 157,
   "id": "422a4eb6-a0e8-4e6e-9bf1-2161d28037ca",
   "metadata": {},
   "outputs": [],
   "source": [
    "def get_forecast(response, i):\n",
    "    hora = int(response['forecast']['forecastday'][0]['hour'][i]['time'].split()[1].split(':')[0])\n",
    "    condicion = response['forecast']['forecastday'][0]['hour'][i]['condition']['text']\n",
    "    tempe = float(response['forecast']['forecastday'][0]['hour'][i]['temp_c'])  # corregido aquí\n",
    "    rain = response['forecast']['forecastday'][0]['hour'][i]['will_it_rain']\n",
    "    prob_rain = response['forecast']['forecastday'][0]['hour'][i]['chance_of_rain']\n",
    "    fecha = response['forecast']['forecastday'][0]['hour'][i]['time'].split()[0]\n",
    "\n",
    "    return {\n",
    "        \"hora\": hora,\n",
    "        \"condicion\": condicion,\n",
    "        \"temperatura\": tempe,\n",
    "        \"lluvia\": rain,\n",
    "        \"probabilidad_lluvia\": prob_rain,\n",
    "        \"fecha\": fecha\n",
    "    }\n"
   ]
  },
  {
   "cell_type": "code",
   "execution_count": 90,
   "id": "56333df2-6817-4611-b7d0-0b2cb951557b",
   "metadata": {},
   "outputs": [],
   "source": [
    "from tqdm import tqdm\n",
    "import pandas as pd"
   ]
  },
  {
   "cell_type": "code",
   "execution_count": 159,
   "id": "73a4b16f-2456-4161-81f4-f5e8336d0c5f",
   "metadata": {},
   "outputs": [
    {
     "name": "stderr",
     "output_type": "stream",
     "text": [
      "100%|\u001b[32m███████████████████████████████████████████████████████████████████████████████\u001b[0m| 24/24 [00:00<00:00, 63310.25it/s]\u001b[0m"
     ]
    },
    {
     "name": "stdout",
     "output_type": "stream",
     "text": [
      "   hora           condicion  temperatura  lluvia  probabilidad_lluvia  \\\n",
      "0     0  Patchy rain nearby          9.3       0                   66   \n",
      "1     1  Patchy rain nearby          9.2       1                   89   \n",
      "2     2  Patchy rain nearby          8.6       1                  100   \n",
      "3     3  Patchy rain nearby          8.3       1                   86   \n",
      "4     4      Partly Cloudy           8.0       0                    0   \n",
      "\n",
      "        fecha  \n",
      "0  2025-01-21  \n",
      "1  2025-01-21  \n",
      "2  2025-01-21  \n",
      "3  2025-01-21  \n",
      "4  2025-01-21  \n"
     ]
    },
    {
     "name": "stderr",
     "output_type": "stream",
     "text": [
      "\n"
     ]
    }
   ],
   "source": [
    "datos = []\n",
    "\n",
    "for i in tqdm(range(len(response['forecast']['forecastday'][0]['hour'])), colour='green'):\n",
    "    datos.append(get_forecast(response, i))\n",
    "\n",
    "# Convertir la lista de diccionarios en un DataFrame\n",
    "df = pd.DataFrame(datos)\n",
    "\n",
    "# Mostrar el DataFrame para verificar datos\n",
    "print(df.head())\n",
    "    "
   ]
  },
  {
   "cell_type": "code",
   "execution_count": 161,
   "id": "ab656bb0-7497-4a08-9852-0ce8a45ec3c6",
   "metadata": {},
   "outputs": [
    {
     "data": {
      "text/plain": [
       "{'hora': 0,\n",
       " 'condicion': 'Patchy rain nearby',\n",
       " 'temperatura': 9.3,\n",
       " 'lluvia': 0,\n",
       " 'probabilidad_lluvia': 66,\n",
       " 'fecha': '2025-01-21'}"
      ]
     },
     "execution_count": 161,
     "metadata": {},
     "output_type": "execute_result"
    }
   ],
   "source": [
    "datos[0]"
   ]
  },
  {
   "cell_type": "code",
   "execution_count": 165,
   "id": "f716d6c9-6ed3-484a-aec5-7844c06dfa3d",
   "metadata": {},
   "outputs": [
    {
     "data": {
      "text/html": [
       "<div>\n",
       "<style scoped>\n",
       "    .dataframe tbody tr th:only-of-type {\n",
       "        vertical-align: middle;\n",
       "    }\n",
       "\n",
       "    .dataframe tbody tr th {\n",
       "        vertical-align: top;\n",
       "    }\n",
       "\n",
       "    .dataframe thead th {\n",
       "        text-align: right;\n",
       "    }\n",
       "</style>\n",
       "<table border=\"1\" class=\"dataframe\">\n",
       "  <thead>\n",
       "    <tr style=\"text-align: right;\">\n",
       "      <th></th>\n",
       "      <th>hora</th>\n",
       "      <th>condicion</th>\n",
       "      <th>temperatura</th>\n",
       "      <th>lluvia</th>\n",
       "      <th>probabilidad_lluvia</th>\n",
       "      <th>fecha</th>\n",
       "    </tr>\n",
       "  </thead>\n",
       "  <tbody>\n",
       "    <tr>\n",
       "      <th>0</th>\n",
       "      <td>0</td>\n",
       "      <td>Patchy rain nearby</td>\n",
       "      <td>9.3</td>\n",
       "      <td>0</td>\n",
       "      <td>66</td>\n",
       "      <td>2025-01-21</td>\n",
       "    </tr>\n",
       "    <tr>\n",
       "      <th>1</th>\n",
       "      <td>1</td>\n",
       "      <td>Patchy rain nearby</td>\n",
       "      <td>9.2</td>\n",
       "      <td>1</td>\n",
       "      <td>89</td>\n",
       "      <td>2025-01-21</td>\n",
       "    </tr>\n",
       "    <tr>\n",
       "      <th>2</th>\n",
       "      <td>2</td>\n",
       "      <td>Patchy rain nearby</td>\n",
       "      <td>8.6</td>\n",
       "      <td>1</td>\n",
       "      <td>100</td>\n",
       "      <td>2025-01-21</td>\n",
       "    </tr>\n",
       "    <tr>\n",
       "      <th>3</th>\n",
       "      <td>3</td>\n",
       "      <td>Patchy rain nearby</td>\n",
       "      <td>8.3</td>\n",
       "      <td>1</td>\n",
       "      <td>86</td>\n",
       "      <td>2025-01-21</td>\n",
       "    </tr>\n",
       "    <tr>\n",
       "      <th>4</th>\n",
       "      <td>4</td>\n",
       "      <td>Partly Cloudy</td>\n",
       "      <td>8.0</td>\n",
       "      <td>0</td>\n",
       "      <td>0</td>\n",
       "      <td>2025-01-21</td>\n",
       "    </tr>\n",
       "    <tr>\n",
       "      <th>5</th>\n",
       "      <td>5</td>\n",
       "      <td>Partly Cloudy</td>\n",
       "      <td>7.5</td>\n",
       "      <td>0</td>\n",
       "      <td>0</td>\n",
       "      <td>2025-01-21</td>\n",
       "    </tr>\n",
       "    <tr>\n",
       "      <th>6</th>\n",
       "      <td>6</td>\n",
       "      <td>Partly cloudy</td>\n",
       "      <td>9.2</td>\n",
       "      <td>0</td>\n",
       "      <td>0</td>\n",
       "      <td>2025-01-21</td>\n",
       "    </tr>\n",
       "    <tr>\n",
       "      <th>7</th>\n",
       "      <td>7</td>\n",
       "      <td>Partly Cloudy</td>\n",
       "      <td>8.6</td>\n",
       "      <td>0</td>\n",
       "      <td>0</td>\n",
       "      <td>2025-01-21</td>\n",
       "    </tr>\n",
       "    <tr>\n",
       "      <th>8</th>\n",
       "      <td>8</td>\n",
       "      <td>Sunny</td>\n",
       "      <td>12.0</td>\n",
       "      <td>0</td>\n",
       "      <td>0</td>\n",
       "      <td>2025-01-21</td>\n",
       "    </tr>\n",
       "    <tr>\n",
       "      <th>9</th>\n",
       "      <td>9</td>\n",
       "      <td>Patchy rain nearby</td>\n",
       "      <td>14.4</td>\n",
       "      <td>0</td>\n",
       "      <td>63</td>\n",
       "      <td>2025-01-21</td>\n",
       "    </tr>\n",
       "    <tr>\n",
       "      <th>10</th>\n",
       "      <td>10</td>\n",
       "      <td>Patchy rain nearby</td>\n",
       "      <td>16.4</td>\n",
       "      <td>1</td>\n",
       "      <td>74</td>\n",
       "      <td>2025-01-21</td>\n",
       "    </tr>\n",
       "    <tr>\n",
       "      <th>11</th>\n",
       "      <td>11</td>\n",
       "      <td>Patchy rain nearby</td>\n",
       "      <td>17.6</td>\n",
       "      <td>1</td>\n",
       "      <td>100</td>\n",
       "      <td>2025-01-21</td>\n",
       "    </tr>\n",
       "    <tr>\n",
       "      <th>12</th>\n",
       "      <td>12</td>\n",
       "      <td>Patchy rain nearby</td>\n",
       "      <td>18.3</td>\n",
       "      <td>1</td>\n",
       "      <td>100</td>\n",
       "      <td>2025-01-21</td>\n",
       "    </tr>\n",
       "    <tr>\n",
       "      <th>13</th>\n",
       "      <td>13</td>\n",
       "      <td>Patchy rain nearby</td>\n",
       "      <td>18.4</td>\n",
       "      <td>1</td>\n",
       "      <td>100</td>\n",
       "      <td>2025-01-21</td>\n",
       "    </tr>\n",
       "    <tr>\n",
       "      <th>14</th>\n",
       "      <td>14</td>\n",
       "      <td>Patchy rain nearby</td>\n",
       "      <td>17.7</td>\n",
       "      <td>1</td>\n",
       "      <td>100</td>\n",
       "      <td>2025-01-21</td>\n",
       "    </tr>\n",
       "    <tr>\n",
       "      <th>15</th>\n",
       "      <td>15</td>\n",
       "      <td>Patchy rain nearby</td>\n",
       "      <td>16.5</td>\n",
       "      <td>1</td>\n",
       "      <td>100</td>\n",
       "      <td>2025-01-21</td>\n",
       "    </tr>\n",
       "    <tr>\n",
       "      <th>16</th>\n",
       "      <td>16</td>\n",
       "      <td>Patchy rain nearby</td>\n",
       "      <td>15.6</td>\n",
       "      <td>1</td>\n",
       "      <td>100</td>\n",
       "      <td>2025-01-21</td>\n",
       "    </tr>\n",
       "    <tr>\n",
       "      <th>17</th>\n",
       "      <td>17</td>\n",
       "      <td>Patchy rain nearby</td>\n",
       "      <td>14.2</td>\n",
       "      <td>1</td>\n",
       "      <td>100</td>\n",
       "      <td>2025-01-21</td>\n",
       "    </tr>\n",
       "    <tr>\n",
       "      <th>18</th>\n",
       "      <td>18</td>\n",
       "      <td>Patchy rain nearby</td>\n",
       "      <td>11.1</td>\n",
       "      <td>0</td>\n",
       "      <td>64</td>\n",
       "      <td>2025-01-21</td>\n",
       "    </tr>\n",
       "    <tr>\n",
       "      <th>19</th>\n",
       "      <td>19</td>\n",
       "      <td>Patchy rain nearby</td>\n",
       "      <td>8.9</td>\n",
       "      <td>1</td>\n",
       "      <td>82</td>\n",
       "      <td>2025-01-21</td>\n",
       "    </tr>\n",
       "    <tr>\n",
       "      <th>20</th>\n",
       "      <td>20</td>\n",
       "      <td>Partly Cloudy</td>\n",
       "      <td>8.1</td>\n",
       "      <td>0</td>\n",
       "      <td>0</td>\n",
       "      <td>2025-01-21</td>\n",
       "    </tr>\n",
       "    <tr>\n",
       "      <th>21</th>\n",
       "      <td>21</td>\n",
       "      <td>Partly Cloudy</td>\n",
       "      <td>7.6</td>\n",
       "      <td>0</td>\n",
       "      <td>0</td>\n",
       "      <td>2025-01-21</td>\n",
       "    </tr>\n",
       "    <tr>\n",
       "      <th>22</th>\n",
       "      <td>22</td>\n",
       "      <td>Partly Cloudy</td>\n",
       "      <td>7.3</td>\n",
       "      <td>0</td>\n",
       "      <td>0</td>\n",
       "      <td>2025-01-21</td>\n",
       "    </tr>\n",
       "    <tr>\n",
       "      <th>23</th>\n",
       "      <td>23</td>\n",
       "      <td>Partly Cloudy</td>\n",
       "      <td>7.0</td>\n",
       "      <td>0</td>\n",
       "      <td>0</td>\n",
       "      <td>2025-01-21</td>\n",
       "    </tr>\n",
       "  </tbody>\n",
       "</table>\n",
       "</div>"
      ],
      "text/plain": [
       "    hora           condicion  temperatura  lluvia  probabilidad_lluvia  \\\n",
       "0      0  Patchy rain nearby          9.3       0                   66   \n",
       "1      1  Patchy rain nearby          9.2       1                   89   \n",
       "2      2  Patchy rain nearby          8.6       1                  100   \n",
       "3      3  Patchy rain nearby          8.3       1                   86   \n",
       "4      4      Partly Cloudy           8.0       0                    0   \n",
       "5      5      Partly Cloudy           7.5       0                    0   \n",
       "6      6       Partly cloudy          9.2       0                    0   \n",
       "7      7      Partly Cloudy           8.6       0                    0   \n",
       "8      8               Sunny         12.0       0                    0   \n",
       "9      9  Patchy rain nearby         14.4       0                   63   \n",
       "10    10  Patchy rain nearby         16.4       1                   74   \n",
       "11    11  Patchy rain nearby         17.6       1                  100   \n",
       "12    12  Patchy rain nearby         18.3       1                  100   \n",
       "13    13  Patchy rain nearby         18.4       1                  100   \n",
       "14    14  Patchy rain nearby         17.7       1                  100   \n",
       "15    15  Patchy rain nearby         16.5       1                  100   \n",
       "16    16  Patchy rain nearby         15.6       1                  100   \n",
       "17    17  Patchy rain nearby         14.2       1                  100   \n",
       "18    18  Patchy rain nearby         11.1       0                   64   \n",
       "19    19  Patchy rain nearby          8.9       1                   82   \n",
       "20    20      Partly Cloudy           8.1       0                    0   \n",
       "21    21      Partly Cloudy           7.6       0                    0   \n",
       "22    22      Partly Cloudy           7.3       0                    0   \n",
       "23    23      Partly Cloudy           7.0       0                    0   \n",
       "\n",
       "         fecha  \n",
       "0   2025-01-21  \n",
       "1   2025-01-21  \n",
       "2   2025-01-21  \n",
       "3   2025-01-21  \n",
       "4   2025-01-21  \n",
       "5   2025-01-21  \n",
       "6   2025-01-21  \n",
       "7   2025-01-21  \n",
       "8   2025-01-21  \n",
       "9   2025-01-21  \n",
       "10  2025-01-21  \n",
       "11  2025-01-21  \n",
       "12  2025-01-21  \n",
       "13  2025-01-21  \n",
       "14  2025-01-21  \n",
       "15  2025-01-21  \n",
       "16  2025-01-21  \n",
       "17  2025-01-21  \n",
       "18  2025-01-21  \n",
       "19  2025-01-21  \n",
       "20  2025-01-21  \n",
       "21  2025-01-21  \n",
       "22  2025-01-21  \n",
       "23  2025-01-21  "
      ]
     },
     "execution_count": 165,
     "metadata": {},
     "output_type": "execute_result"
    }
   ],
   "source": [
    "col = ['hora', 'condicion', 'temperatura', 'lluvia', 'probabilidad_lluvia','fecha']\n",
    "df = pd.DataFrame(datos, columns=col)\n",
    "df = df.sort_values(by='hora', ascending=True)\n",
    "df"
   ]
  },
  {
   "cell_type": "code",
   "execution_count": 167,
   "id": "7e0b0811-583b-40fd-9a0e-78ce60044544",
   "metadata": {},
   "outputs": [],
   "source": [
    "df_rain =  df[(df['lluvia']==1) & (df['hora']>6) & (df['hora']< 22)]\n",
    "df_rain = df_rain[['hora','condicion']]\n",
    "df_rain.set_index('hora', inplace = True)"
   ]
  },
  {
   "cell_type": "code",
   "execution_count": 169,
   "id": "4bbc0a93-ba51-4b57-8d30-69537dd25dfb",
   "metadata": {},
   "outputs": [
    {
     "data": {
      "text/html": [
       "<div>\n",
       "<style scoped>\n",
       "    .dataframe tbody tr th:only-of-type {\n",
       "        vertical-align: middle;\n",
       "    }\n",
       "\n",
       "    .dataframe tbody tr th {\n",
       "        vertical-align: top;\n",
       "    }\n",
       "\n",
       "    .dataframe thead th {\n",
       "        text-align: right;\n",
       "    }\n",
       "</style>\n",
       "<table border=\"1\" class=\"dataframe\">\n",
       "  <thead>\n",
       "    <tr style=\"text-align: right;\">\n",
       "      <th></th>\n",
       "      <th>condicion</th>\n",
       "    </tr>\n",
       "    <tr>\n",
       "      <th>hora</th>\n",
       "      <th></th>\n",
       "    </tr>\n",
       "  </thead>\n",
       "  <tbody>\n",
       "    <tr>\n",
       "      <th>10</th>\n",
       "      <td>Patchy rain nearby</td>\n",
       "    </tr>\n",
       "    <tr>\n",
       "      <th>11</th>\n",
       "      <td>Patchy rain nearby</td>\n",
       "    </tr>\n",
       "    <tr>\n",
       "      <th>12</th>\n",
       "      <td>Patchy rain nearby</td>\n",
       "    </tr>\n",
       "    <tr>\n",
       "      <th>13</th>\n",
       "      <td>Patchy rain nearby</td>\n",
       "    </tr>\n",
       "    <tr>\n",
       "      <th>14</th>\n",
       "      <td>Patchy rain nearby</td>\n",
       "    </tr>\n",
       "    <tr>\n",
       "      <th>15</th>\n",
       "      <td>Patchy rain nearby</td>\n",
       "    </tr>\n",
       "    <tr>\n",
       "      <th>16</th>\n",
       "      <td>Patchy rain nearby</td>\n",
       "    </tr>\n",
       "    <tr>\n",
       "      <th>17</th>\n",
       "      <td>Patchy rain nearby</td>\n",
       "    </tr>\n",
       "    <tr>\n",
       "      <th>19</th>\n",
       "      <td>Patchy rain nearby</td>\n",
       "    </tr>\n",
       "  </tbody>\n",
       "</table>\n",
       "</div>"
      ],
      "text/plain": [
       "               condicion\n",
       "hora                    \n",
       "10    Patchy rain nearby\n",
       "11    Patchy rain nearby\n",
       "12    Patchy rain nearby\n",
       "13    Patchy rain nearby\n",
       "14    Patchy rain nearby\n",
       "15    Patchy rain nearby\n",
       "16    Patchy rain nearby\n",
       "17    Patchy rain nearby\n",
       "19    Patchy rain nearby"
      ]
     },
     "execution_count": 169,
     "metadata": {},
     "output_type": "execute_result"
    }
   ],
   "source": [
    "df_rain"
   ]
  },
  {
   "cell_type": "code",
   "execution_count": 171,
   "id": "fa400925-a731-4c2f-8c28-b7f8cdea9e6d",
   "metadata": {},
   "outputs": [
    {
     "data": {
      "text/plain": [
       "'2025-01-21'"
      ]
     },
     "execution_count": 171,
     "metadata": {},
     "output_type": "execute_result"
    }
   ],
   "source": [
    "df['fecha'][0]"
   ]
  },
  {
   "cell_type": "code",
   "execution_count": 177,
   "id": "15fe92e7-1337-4b9f-b814-fc6678c0c77a",
   "metadata": {},
   "outputs": [
    {
     "data": {
      "text/plain": [
       "'+1 507 570 5538'"
      ]
     },
     "execution_count": 177,
     "metadata": {},
     "output_type": "execute_result"
    }
   ],
   "source": [
    "PHONE_NUMBER"
   ]
  },
  {
   "cell_type": "code",
   "execution_count": 233,
   "id": "3e885669-8506-4c38-b27b-dee352abede2",
   "metadata": {},
   "outputs": [
    {
     "data": {
      "text/plain": [
       "'Hola! \\n\\n\\n El pronóstico del tiempo hoy 2025-01-21 en Bogotá es: \\n\\n\\n                condicion\\nhora                    \\n10    Patchy rain nearby\\n11    Patchy rain nearby\\n12    Patchy rain nearby\\n13    Patchy rain nearby\\n14    Patchy rain nearby\\n15    Patchy rain nearby\\n16    Patchy rain nearby\\n17    Patchy rain nearby\\n19    Patchy rain nearby'"
      ]
     },
     "execution_count": 233,
     "metadata": {},
     "output_type": "execute_result"
    }
   ],
   "source": [
    "'Hola! \\n\\n\\n El pronóstico del tiempo hoy ' + df['fecha'][0] + ' en ' + query + ' es: \\n\\n\\n ' + str(df_rain)"
   ]
  },
  {
   "cell_type": "code",
   "execution_count": 3,
   "id": "95b66aa4-9546-4777-a7c9-87824c86f704",
   "metadata": {},
   "outputs": [
    {
     "ename": "NameError",
     "evalue": "name 'time' is not defined",
     "output_type": "error",
     "traceback": [
      "\u001b[1;31m---------------------------------------------------------------------------\u001b[0m",
      "\u001b[1;31mNameError\u001b[0m                                 Traceback (most recent call last)",
      "Cell \u001b[1;32mIn[3], line 1\u001b[0m\n\u001b[1;32m----> 1\u001b[0m time\u001b[38;5;241m.\u001b[39msleep(\u001b[38;5;241m2\u001b[39m)\n\u001b[0;32m      2\u001b[0m account_sid \u001b[38;5;241m=\u001b[39m TWILIO_ACCOUNT_SID \n\u001b[0;32m      3\u001b[0m auth_token \u001b[38;5;241m=\u001b[39m TWILIO_AUTH_TOKEN\n",
      "\u001b[1;31mNameError\u001b[0m: name 'time' is not defined"
     ]
    }
   ],
   "source": [
    "import os\n",
    "\n",
    "# Definir variables de entorno dentro del script\n",
    "os.environ[\"TWILIO_ACCOUNT_SID\"] = \"AC20e094a129cd1f75e253f9a1e6d95e38\"\n",
    "os.environ[\"TWILIO_AUTH_TOKEN\"] = \"a9f18df2bc8a0934a0eb8b499e6b113e\"\n",
    "os.environ[\"PHONE_NUMBER\"] = \"+15075705538\"\n",
    "\n",
    "# Luego puedes acceder a ellas con getenv\n",
    "account_sid = os.getenv(\"TWILIO_ACCOUNT_SID\")\n",
    "auth_token = os.getenv(\"TWILIO_AUTH_TOKEN\")\n",
    "phone_number = os.getenv(\"PHONE_NUMBER\")\n",
    "\n",
    "print(\"SID:\", account_sid)\n",
    "print(\"Phone:\", phone_number)"
   ]
  },
  {
   "cell_type": "code",
   "execution_count": 261,
   "id": "d9f1b007-2185-490a-9f23-2a1364b8e66f",
   "metadata": {},
   "outputs": [
    {
     "name": "stdout",
     "output_type": "stream",
     "text": [
      "Mensaje Enviado: SM8ea08d7dcaae8662bb00b82586f859e1\n"
     ]
    }
   ],
   "source": [
    "import os\n",
    "import time\n",
    "from twilio.rest import Client\n",
    "\n",
    "# Esperar 2 segundos antes de enviar el mensaje (opcional)\n",
    "time.sleep(2)\n",
    "\n",
    "# Obtener las credenciales de Twilio desde las variables de entorno\n",
    "account_sid = os.getenv('TWILIO_ACCOUNT_SID')\n",
    "auth_token = os.getenv('TWILIO_AUTH_TOKEN')\n",
    "phone_number = os.getenv('PHONE_NUMBER')\n",
    "\n",
    "# Verificar que las variables no sean None para evitar errores\n",
    "if not account_sid or not auth_token or not phone_number:\n",
    "    raise ValueError(\"Error: Las variables de entorno de Twilio no están configuradas correctamente.\")\n",
    "\n",
    "# Inicializar el cliente de Twilio\n",
    "client = Client(account_sid, auth_token)\n",
    "\n",
    "# Construcción del mensaje\n",
    "try:\n",
    "    message = client.messages.create(\n",
    "        body='\\nHola! \\n\\n\\n El pronóstico de lluvia hoy ' + df['fecha'][0] + \n",
    "             ' en ' + query + ' es : \\n\\n\\n ' + str(df_rain),\n",
    "        from_=phone_number,\n",
    "        to='+34604180382'\n",
    "    )\n",
    "\n",
    "    print('Mensaje Enviado: ' + message.sid)\n",
    "\n",
    "except Exception as e:\n",
    "    print(\"Error al enviar el mensaje:\", str(e))\n",
    "\n"
   ]
  },
  {
   "cell_type": "code",
   "execution_count": 257,
   "id": "22feec29-149a-4963-a0d7-3557d1177366",
   "metadata": {},
   "outputs": [
    {
     "name": "stdout",
     "output_type": "stream",
     "text": [
      "SID: AC20e094a129cd1f75e253f9a1e6d95e38\n",
      "Phone: +15075705538\n"
     ]
    }
   ],
   "source": [
    "\n"
   ]
  }
 ],
 "metadata": {
  "kernelspec": {
   "display_name": "Python 3 (ipykernel)",
   "language": "python",
   "name": "python3"
  },
  "language_info": {
   "codemirror_mode": {
    "name": "ipython",
    "version": 3
   },
   "file_extension": ".py",
   "mimetype": "text/x-python",
   "name": "python",
   "nbconvert_exporter": "python",
   "pygments_lexer": "ipython3",
   "version": "3.12.7"
  }
 },
 "nbformat": 4,
 "nbformat_minor": 5
}
